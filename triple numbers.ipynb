{
 "cells": [
  {
   "cell_type": "code",
   "execution_count": 4,
   "id": "8c0f7aa1",
   "metadata": {},
   "outputs": [
    {
     "name": "stdout",
     "output_type": "stream",
     "text": [
      "Triple list of numbers:\n",
      "[3, 6, 9, 12, 15, 18, 21]\n"
     ]
    }
   ],
   "source": [
    "sample_list = [1,2,3,4,5,6,7]\n",
    "\n",
    "triple_list = map(lambda num: num + num + num, sample_list)\n",
    "print(\"Triple list of numbers:\")\n",
    "print(list(triple_list))"
   ]
  },
  {
   "cell_type": "code",
   "execution_count": null,
   "id": "d05c981b",
   "metadata": {},
   "outputs": [],
   "source": []
  }
 ],
 "metadata": {
  "kernelspec": {
   "display_name": "Python 3 (ipykernel)",
   "language": "python",
   "name": "python3"
  },
  "language_info": {
   "codemirror_mode": {
    "name": "ipython",
    "version": 3
   },
   "file_extension": ".py",
   "mimetype": "text/x-python",
   "name": "python",
   "nbconvert_exporter": "python",
   "pygments_lexer": "ipython3",
   "version": "3.9.13"
  }
 },
 "nbformat": 4,
 "nbformat_minor": 5
}
